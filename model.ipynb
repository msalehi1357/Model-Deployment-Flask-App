{
 "cells": [
  {
   "cell_type": "code",
   "execution_count": 21,
   "id": "545c2a5e",
   "metadata": {},
   "outputs": [
    {
     "data": {
      "text/plain": [
       "0.7103825136612022"
      ]
     },
     "execution_count": 21,
     "metadata": {},
     "output_type": "execute_result"
    }
   ],
   "source": [
    "import pandas as pd\n",
    "import numpy as np\n",
    "from sklearn.linear_model import LogisticRegression\n",
    "# create df\n",
    "train = pd.read_csv('titanic.csv') # change file path\n",
    "# drop null values\n",
    "train.dropna(inplace=True)\n",
    "# features and target\n",
    "target = 'Survived'\n",
    "features = ['Pclass', 'Age', 'SibSp', 'Fare']\n",
    "# X matrix, y vector\n",
    "X = train[features]\n",
    "y = train[target]\n",
    "# model \n",
    "model = LogisticRegression()\n",
    "model.fit(X, y)\n",
    "model.score(X, y)"
   ]
  },
  {
   "cell_type": "code",
   "execution_count": 4,
   "id": "8cf63b78",
   "metadata": {},
   "outputs": [],
   "source": [
    "import pickle\n"
   ]
  },
  {
   "cell_type": "code",
   "execution_count": 5,
   "id": "43c4a72a",
   "metadata": {},
   "outputs": [],
   "source": [
    "pickle.dump(model, open('model.pkl', 'wb'))"
   ]
  },
  {
   "cell_type": "code",
   "execution_count": 6,
   "id": "a079e16e",
   "metadata": {},
   "outputs": [],
   "source": [
    "import requests "
   ]
  },
  {
   "cell_type": "code",
   "execution_count": 7,
   "id": "e752b551",
   "metadata": {},
   "outputs": [],
   "source": [
    "import json"
   ]
  },
  {
   "cell_type": "code",
   "execution_count": 8,
   "id": "1bfbe230",
   "metadata": {},
   "outputs": [],
   "source": [
    "# sample data\n",
    "data = {'Pclass': 3\n",
    "      , 'Age': 2\n",
    "      , 'SibSp': 1\n",
    "      , 'Fare': 50}\n",
    "data = json.dumps(data)"
   ]
  },
  {
   "cell_type": "code",
   "execution_count": 16,
   "id": "88a1a32c",
   "metadata": {},
   "outputs": [],
   "source": [
    "# local url\n",
    "url = 'http://127.0.0.1:5000'"
   ]
  },
  {
   "cell_type": "code",
   "execution_count": 18,
   "id": "98cf84ea",
   "metadata": {},
   "outputs": [
    {
     "name": "stdout",
     "output_type": "stream",
     "text": [
      "<Response [200]>\n"
     ]
    }
   ],
   "source": [
    "send_request = requests.post(url, data)\n",
    "print(send_request)"
   ]
  },
  {
   "cell_type": "code",
   "execution_count": 19,
   "id": "8dcd6362",
   "metadata": {},
   "outputs": [
    {
     "name": "stdout",
     "output_type": "stream",
     "text": [
      "{'results': {'results': 1}}\n"
     ]
    }
   ],
   "source": [
    "print(send_request.json())"
   ]
  },
  {
   "cell_type": "code",
   "execution_count": null,
   "id": "bd540675",
   "metadata": {},
   "outputs": [],
   "source": [
    "# heroku url\n",
    "heroku_url = 'https://titanic-flask-model.herokuapp.com' # change to your app name\n",
    "# sample data\n",
    "data = {  'Pclass': 3\n",
    "             , 'Age': 2\n",
    "             , 'SibSp': 1\n",
    "             , 'Fare': 50}\n",
    "data = json.dumps(data)"
   ]
  },
  {
   "cell_type": "code",
   "execution_count": 24,
   "id": "e227517a",
   "metadata": {},
   "outputs": [
    {
     "ename": "NameError",
     "evalue": "name 'numpy' is not defined",
     "output_type": "error",
     "traceback": [
      "\u001b[1;31m---------------------------------------------------------------------------\u001b[0m",
      "\u001b[1;31mNameError\u001b[0m                                 Traceback (most recent call last)",
      "\u001b[1;32m~\\AppData\\Local\\Temp/ipykernel_39196/1299725556.py\u001b[0m in \u001b[0;36m<module>\u001b[1;34m\u001b[0m\n\u001b[1;32m----> 1\u001b[1;33m \u001b[0mnumpy\u001b[0m\u001b[1;33m.\u001b[0m\u001b[0m__version__\u001b[0m\u001b[1;33m\u001b[0m\u001b[1;33m\u001b[0m\u001b[0m\n\u001b[0m",
      "\u001b[1;31mNameError\u001b[0m: name 'numpy' is not defined"
     ]
    }
   ],
   "source": [
    "numpy.__version__"
   ]
  }
 ],
 "metadata": {
  "kernelspec": {
   "display_name": "Python 3 (ipykernel)",
   "language": "python",
   "name": "python3"
  },
  "language_info": {
   "codemirror_mode": {
    "name": "ipython",
    "version": 3
   },
   "file_extension": ".py",
   "mimetype": "text/x-python",
   "name": "python",
   "nbconvert_exporter": "python",
   "pygments_lexer": "ipython3",
   "version": "3.9.7"
  }
 },
 "nbformat": 4,
 "nbformat_minor": 5
}
